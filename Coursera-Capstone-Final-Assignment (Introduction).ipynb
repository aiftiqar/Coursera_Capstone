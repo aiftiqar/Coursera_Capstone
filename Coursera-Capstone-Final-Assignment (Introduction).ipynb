{
    "nbformat_minor": 1, 
    "cells": [
        {
            "source": "# Capstone Project - Battle of Neighborhood\n**London, UK**\n\n\n![alt text](london-pic.jpg)", 
            "cell_type": "markdown", 
            "metadata": {
                "collapsed": true
            }
        }, 
        {
            "source": "## Project Description\n\nPeople often explore the neighborhood before they wanted to move to any specific location to understand various aspect of the locations - rentals, near-by shops, clinics / hospitals, schools, safety, distance to the office etc. In this project, I have choosen to explore London neighborhood, where most of the Asian / Indian community reside and the surrounding restaurants around that area using clustering & segmentation techniques learned in this course. This project will also help me in comparing 2 different neighborhoods to choose the best suited location based on the top 10 common venues surrounding it.\n\n**Objective:**\n* Extracting top trending venues of London using Foursquare API\n* Forming neighborhood clusters based on venue categories using unsupervised k-mean clustering algorithm\n* Understanding the similarities and differences between two neighborhoods to retrieve more insights and to conclude which neighborhood is best suited for an individual\u2019s need.\n\n", 
            "cell_type": "markdown", 
            "metadata": {}
        }, 
        {
            "source": "## List of Data Sources and Packages", 
            "cell_type": "markdown", 
            "metadata": {}
        }, 
        {
            "source": "#### DataSet1 - List of areas in London\nI will be extracting the list of areas in London from this wikipage: https://en.wikipedia.org/wiki/List_of_areas_of_London\n<tr>BeautifulSoap and other panda libraries will be used to cleans this data for the required Neighborhood of London with Postalcodes\n\n#### DataSet2 - Demography of London\nI will also be using the demographic data of london from this wikipage: https://en.wikipedia.org/wiki/Demography_of_London to find the top asian locality within London\n\n#### Important Libraries / API - geocoder, Folium, kMeans, Foursquare\n- I will be using geocoder library to fetch the required latitude and logitutde information of each postal code of London, UK\n- Folium is a great visualization library for plotting the map. This will be used to visualize the neighborhoods cluster distribution of London city over an interactive leaflet map.\n- Foursquare API will help fetch the neighborhood for the given postal codes and find the top common venues from it.\n- kMeans clustering will be used to form the clusters of surrounding neighborhoods and compare the neighborhood information\n", 
            "cell_type": "markdown", 
            "metadata": {}
        }
    ], 
    "metadata": {
        "kernelspec": {
            "display_name": "Python 3.5", 
            "name": "python3", 
            "language": "python"
        }, 
        "language_info": {
            "mimetype": "text/x-python", 
            "nbconvert_exporter": "python", 
            "version": "3.5.5", 
            "name": "python", 
            "file_extension": ".py", 
            "pygments_lexer": "ipython3", 
            "codemirror_mode": {
                "version": 3, 
                "name": "ipython"
            }
        }
    }, 
    "nbformat": 4
}